{
 "cells": [
  {
   "cell_type": "code",
   "execution_count": 1,
   "id": "21cfc2f2",
   "metadata": {},
   "outputs": [],
   "source": [
    "import numpy as np"
   ]
  },
  {
   "cell_type": "code",
   "execution_count": 2,
   "id": "249233fa",
   "metadata": {},
   "outputs": [],
   "source": [
    "import random"
   ]
  },
  {
   "cell_type": "code",
   "execution_count": 3,
   "id": "f009a757",
   "metadata": {},
   "outputs": [],
   "source": [
    "from typing import Tuple"
   ]
  },
  {
   "cell_type": "code",
   "execution_count": 4,
   "id": "ffe2aa9d",
   "metadata": {},
   "outputs": [],
   "source": [
    "class Cell:\n",
    "    \n",
    "    def __init__(self, options):\n",
    "        \n",
    "        # No value, has not collapsed yet\n",
    "        self.v = None\n",
    "        self.options = dict(options)\n",
    "        \n",
    "    \n",
    "    def has_collapsed(self) -> bool:\n",
    "        return self.v is not None\n",
    "    \n",
    "    def collapse(self):\n",
    "        \n",
    "        choices = []\n",
    "        weights = []\n",
    "        \n",
    "        for v, w in self.options.items():\n",
    "            choices.append(v)\n",
    "            weights.append(w)\n",
    "        \n",
    "        v = random.choices(\n",
    "            population = choices,\n",
    "            weights=weights,\n",
    "            k=1\n",
    "        )[0]\n",
    "        \n",
    "        self.v = v\n",
    "        self.options = None\n",
    "        \n",
    "    def remove_option(self, v):\n",
    "        \"\"\"\n",
    "        Remove one of the available options\n",
    "        \"\"\"\n",
    "        \n",
    "        if not self.has_collapsed() and v in self.options:\n",
    "            del(self.options[v])"
   ]
  },
  {
   "cell_type": "code",
   "execution_count": 5,
   "id": "3496afdd",
   "metadata": {},
   "outputs": [],
   "source": [
    "def get_square(i, j):\n",
    "    \"\"\"\n",
    "    Returns top left coordinates of the 3x3 square containing cell at (i, j)\n",
    "    (required for reducing choices in cells from the same square)\n",
    "    \"\"\"\n",
    "    return (3*(i//3), 3*(j//3))"
   ]
  },
  {
   "cell_type": "code",
   "execution_count": 6,
   "id": "26166630",
   "metadata": {},
   "outputs": [],
   "source": [
    "weights = {i: 1 for i in range(1, 10)}"
   ]
  },
  {
   "cell_type": "code",
   "execution_count": 7,
   "id": "7dd62d69",
   "metadata": {},
   "outputs": [],
   "source": [
    "def pick_next_cell(grid: np.ndarray) -> Tuple:\n",
    "    \n",
    "    candidates = []\n",
    "    \n",
    "    min_options = 99\n",
    "    for ii in range(9):\n",
    "        for jj in range(9):\n",
    "            \n",
    "            if grid[ii, jj].has_collapsed():\n",
    "                continue\n",
    "                \n",
    "            n = len(grid[ii, jj].options)\n",
    "            \n",
    "            if n < min_options:\n",
    "                min_options = n\n",
    "                candidates = []\n",
    "                \n",
    "            candidates.append((ii, jj))\n",
    "            \n",
    "    return candidates[0]"
   ]
  },
  {
   "cell_type": "code",
   "execution_count": 31,
   "id": "921aefe6",
   "metadata": {},
   "outputs": [],
   "source": [
    "grid = np.empty((9, 9), dtype=object)\n",
    "\n",
    "for i in range(9):\n",
    "    for j in range(9):\n",
    "        grid[i, j] = Cell(weights)\n",
    "\n",
    "\n",
    "\n",
    "for _ in range(81):\n",
    "    \n",
    "    i, j = pick_next_cell(grid)\n",
    "    \n",
    "    # Collapse cell\n",
    "    grid[i, j].collapse()\n",
    "    \n",
    "    v = grid[i, j].v\n",
    "    \n",
    "    for jj in range(9):\n",
    "        grid[i, jj].remove_option(v)\n",
    "        \n",
    "    for ii in range(9):\n",
    "        grid[ii, j].remove_option(v)\n",
    "    \n",
    "    # Reduce options in same row and col\n",
    "    # Retrieve coordinates of 3x3 square containin cell\n",
    "    iii, jjj = get_square(i, j)\n",
    "    \n",
    "    for di in range(3):\n",
    "        for dj in range(3):\n",
    "            grid[iii+di, jjj+dj].remove_option(v)"
   ]
  },
  {
   "cell_type": "markdown",
   "id": "f8eb512d",
   "metadata": {},
   "source": [
    "### Display"
   ]
  },
  {
   "cell_type": "code",
   "execution_count": 10,
   "id": "f731ba2f",
   "metadata": {},
   "outputs": [],
   "source": [
    "def display(grid):\n",
    "    ss = \"\"\n",
    "    \n",
    "    for i in range(9):\n",
    "        if i%3 == 0:\n",
    "            ss += (13*'-') + \"\\n\"\n",
    "        for j in range(9):\n",
    "            if j%3 == 0:\n",
    "                ss += \"|\"\n",
    "            \n",
    "            v = grid[i, j].v\n",
    "            \n",
    "            if v is None:\n",
    "                ss += \"0\"\n",
    "            else:\n",
    "            \n",
    "                ss += f\"{v}\"\n",
    "            \n",
    "        ss += \"|\\n\"\n",
    "        \n",
    "    ss += (13*'-') + \"\\n\"\n",
    "    print(ss)"
   ]
  },
  {
   "cell_type": "code",
   "execution_count": 24,
   "id": "342b662b",
   "metadata": {},
   "outputs": [
    {
     "data": {
      "text/plain": [
       "(7, 8)"
      ]
     },
     "execution_count": 24,
     "metadata": {},
     "output_type": "execute_result"
    }
   ],
   "source": [
    "i, j"
   ]
  },
  {
   "cell_type": "code",
   "execution_count": 32,
   "id": "7bd1f73b",
   "metadata": {},
   "outputs": [
    {
     "name": "stdout",
     "output_type": "stream",
     "text": [
      "-------------\n",
      "|346|598|172|\n",
      "|578|412|936|\n",
      "|219|376|548|\n",
      "-------------\n",
      "|783|945|261|\n",
      "|651|283|794|\n",
      "|924|761|853|\n",
      "-------------\n",
      "|492|137|685|\n",
      "|167|854|329|\n",
      "|835|629|417|\n",
      "-------------\n",
      "\n"
     ]
    }
   ],
   "source": [
    "display(grid)"
   ]
  },
  {
   "cell_type": "code",
   "execution_count": null,
   "id": "0f6e5603",
   "metadata": {},
   "outputs": [],
   "source": []
  }
 ],
 "metadata": {
  "kernelspec": {
   "display_name": "Python 3 (ipykernel)",
   "language": "python",
   "name": "python3"
  },
  "language_info": {
   "codemirror_mode": {
    "name": "ipython",
    "version": 3
   },
   "file_extension": ".py",
   "mimetype": "text/x-python",
   "name": "python",
   "nbconvert_exporter": "python",
   "pygments_lexer": "ipython3",
   "version": "3.9.13"
  }
 },
 "nbformat": 4,
 "nbformat_minor": 5
}
